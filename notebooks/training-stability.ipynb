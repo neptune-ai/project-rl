{
 "cells": [
  {
   "cell_type": "markdown",
   "id": "fe5b7139-0e0e-4e3a-bed9-fcca43bda0a4",
   "metadata": {},
   "source": [
    "# Agent training stability\n",
    "Check if reward is stable for the same training but with different random seeds."
   ]
  },
  {
   "cell_type": "code",
   "execution_count": null,
   "id": "60589f34-c98c-4db5-a72a-4b73419cdf63",
   "metadata": {},
   "outputs": [],
   "source": [
    "import os\n",
    "import neptune.new as neptune\n",
    "import pandas as pd\n",
    "import seaborn as sns\n",
    "\n",
    "sns.set(style=\"darkgrid\")"
   ]
  },
  {
   "cell_type": "markdown",
   "id": "7ea50f2d-797c-45c0-8986-e0c5c9a57ab6",
   "metadata": {},
   "source": [
    "## Fetch project"
   ]
  },
  {
   "cell_type": "code",
   "execution_count": null,
   "id": "6c92cfa6-0cb1-4702-911d-a653783c2a69",
   "metadata": {},
   "outputs": [],
   "source": [
    "project = neptune.get_project(name=\"common/project-rl\")"
   ]
  },
  {
   "cell_type": "markdown",
   "id": "d76816a2-3c29-4769-b357-2807f95e48b3",
   "metadata": {},
   "source": [
    "## Fetch runs with \"seed\" tag"
   ]
  },
  {
   "cell_type": "code",
   "execution_count": null,
   "id": "6c094706-d6e6-47e9-b118-19668e9dd8f3",
   "metadata": {},
   "outputs": [],
   "source": [
    "runs_table_df = project.fetch_runs_table(tag=\"seed\").to_pandas()"
   ]
  },
  {
   "cell_type": "code",
   "execution_count": null,
   "id": "8a675726-40e8-4bad-a244-9fc88b75c8a5",
   "metadata": {},
   "outputs": [],
   "source": [
    "stability_df = pd.DataFrame(columns=[\"sys/id\", \"step\", \"value\"])"
   ]
  },
  {
   "cell_type": "markdown",
   "id": "de447273-9e55-43fb-a592-327ec7a9a0d4",
   "metadata": {},
   "source": [
    "## Fetch \"reward\" data from runs"
   ]
  },
  {
   "cell_type": "code",
   "execution_count": null,
   "id": "1fa4bf2c-dae2-47a1-9b2e-b2bd4eb11f2b",
   "metadata": {},
   "outputs": [],
   "source": [
    "for index, row in runs_table_df.iterrows():\n",
    "\n",
    "    # Resume run in read-only mode\n",
    "    run = neptune.init(\n",
    "        api_token=os.getenv(\"NEPTUNE_API_TOKEN\"),\n",
    "        project=\"common/project-rl\",\n",
    "        run=row[\"sys/id\"],\n",
    "        mode=\"read-only\",\n",
    "    )\n",
    "\n",
    "    # Fetch values for the reward\n",
    "    reward_df = run[\"training/episode/reward\"].fetch_values()\n",
    "\n",
    "    reward_df = reward_df[[\"step\", \"value\"]]\n",
    "    reward_df.insert(loc=0, column=\"sys/id\", value=row[\"sys/id\"])\n",
    "    stability_df = stability_df.append(reward_df, sort=True)\n",
    "\n",
    "    # Stop the run\n",
    "    run.stop()\n",
    "\n",
    "stability_df = stability_df.rename(columns={\"value\": \"reward\"})"
   ]
  },
  {
   "cell_type": "markdown",
   "id": "fb08f4ec-4e9f-4778-95a0-2318c125da5d",
   "metadata": {},
   "source": [
    "## Visualize reward with error bars"
   ]
  },
  {
   "cell_type": "code",
   "execution_count": null,
   "id": "2dbdda05-be9e-4d80-a403-540e8f767a99",
   "metadata": {},
   "outputs": [],
   "source": [
    "g = sns.relplot(\n",
    "    x=\"step\",\n",
    "    y=\"reward\",\n",
    "    kind=\"line\",\n",
    "    ci=\"sd\",\n",
    "    height=9,\n",
    "    aspect=1,\n",
    "    data=stability_df[[\"step\", \"reward\"]])"
   ]
  }
 ],
 "metadata": {
  "kernelspec": {
   "display_name": "Python 3",
   "language": "python",
   "name": "python3"
  },
  "language_info": {
   "codemirror_mode": {
    "name": "ipython",
    "version": 3
   },
   "file_extension": ".py",
   "mimetype": "text/x-python",
   "name": "python",
   "nbconvert_exporter": "python",
   "pygments_lexer": "ipython3",
   "version": "3.6.13"
  },
  "neptune": {
   "notebookId": "0a147e30-acdd-41ac-9e1a-13b829ec8732",
   "projectVersion": 2
  }
 },
 "nbformat": 4,
 "nbformat_minor": 5
}
